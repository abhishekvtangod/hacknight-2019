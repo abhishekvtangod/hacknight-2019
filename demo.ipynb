{
 "cells": [
  {
   "cell_type": "code",
   "execution_count": 1,
   "metadata": {},
   "outputs": [
    {
     "name": "stderr",
     "output_type": "stream",
     "text": [
      "/home/abhi/anaconda3/lib/python3.7/site-packages/sklearn/linear_model/logistic.py:432: FutureWarning: Default solver will be changed to 'lbfgs' in 0.22. Specify a solver to silence this warning.\n",
      "  FutureWarning)\n"
     ]
    },
    {
     "name": "stdout",
     "output_type": "stream",
     "text": [
      "0.8\n"
     ]
    }
   ],
   "source": [
    "import pandas as pd\n",
    "import numpy as np\n",
    "import matplotlib.pyplot as plt\n",
    "import seaborn as sns\n",
    "import math\n",
    "from sklearn.model_selection import train_test_split\n",
    "from sklearn.linear_model import LogisticRegression\n",
    "# %matplotlib inline\n",
    "df=pd.read_csv('trainms.csv')\n",
    "df.isnull().sum()\n",
    "df=df.drop(['Country','Gender','state','work_interfere','comments'],axis=1)\n",
    "df=df.drop(['Timestamp'],axis=1)\n",
    "df=df.replace(to_replace =['no','No','N','NO'],value =0)\n",
    "df=df.replace(to_replace =['yes','Yes','Y','YES'],value =1)\n",
    "df=pd.get_dummies(df,columns=[\"self_employed\",\"family_history\",\"remote_work\",\"tech_company\",\"benefits\",\"care_options\",\"wellness_program\"])\n",
    "df=df.drop([\"benefits_0\",\"benefits_Don't know\",'care_options_0','care_options_Not sure','wellness_program_0',\"wellness_program_Don't know\"],axis=1)\n",
    "df=df.drop([\"family_history_0\",\"remote_work_0\",\"tech_company_0\"],axis=1)\n",
    "df.isnull().sum()\n",
    "df.dropna()\n",
    "df=df.drop(['no_employees'],axis=1)\n",
    "df=df.replace(to_replace =[\"Don't know\"],value =0)\n",
    "df=df.replace(to_replace =[\"Very easy\"],value =1)\n",
    "df=df.replace(to_replace =[\"Somewhat easy\"],value =2)\n",
    "df=df.replace(to_replace =[\"Somewhat difficult\"],value =3)\n",
    "df=df.replace(to_replace =[\"Very difficult\"],value =4)\n",
    "df=df.replace(to_replace =[\"Don't know\",\"Not sure\",\"Maybe\",'Some of them'],value =0.5)\n",
    "df=df.rename(columns={'mental_health_consequence': \"mhc\", \"phys_health_consequence\": \"phc\",\"phys_health_interview\": \"phi\"})\n",
    "df['Age']=np.where(df['Age']<=0, df[\"Age\"].median(skipna=True), df['Age'])\n",
    "\n",
    "labels=df['treatment']\n",
    "df_train=df.drop(['treatment'],axis=1)\n",
    "x_train,x_test,y_train,y_test=train_test_split(df_train,labels,test_size=0.05)\n",
    "model=LogisticRegression()\n",
    "model.fit(x_train,y_train)\n",
    "prediction=model.predict(x_test)\n",
    "print(model.score(x_test,y_test))\n",
    "\n",
    "df_test=pd.read_csv('testms.csv')\n",
    "\n",
    "df_test.isnull().sum()\n",
    "df_test=df_test.drop(['Country','Gender','state','work_interfere','comments'],axis=1)\n",
    "df_test=df_test.drop(['Timestamp'],axis=1)\n",
    "df_test=df_test.replace(to_replace =['no','No','N','NO'],value =0)\n",
    "df_test=df_test.replace(to_replace =['yes','Yes','Y','YES'],value =1)\n",
    "df_test=pd.get_dummies(df_test,columns=[\"self_employed\",\"family_history\",\"remote_work\",\"tech_company\",\"benefits\",\"care_options\",\"wellness_program\"])\n",
    "df_test=df_test.drop([\"benefits_0\",\"benefits_Don't know\",'care_options_0','care_options_Not sure','wellness_program_0',\"wellness_program_Don't know\"],axis=1)\n",
    "df_test=df_test.drop([\"family_history_0\",\"remote_work_0\",\"tech_company_0\"],axis=1)\n",
    "df_test.isnull().sum()\n",
    "df_test.dropna()\n",
    "df_test=df_test.drop(['no_employees'],axis=1)\n",
    "df_test=df_test.replace(to_replace =[\"Don't know\"],value =0)\n",
    "df_test=df_test.replace(to_replace =[\"Very easy\"],value =1)\n",
    "df_test=df_test.replace(to_replace =[\"Somewhat easy\"],value =2)\n",
    "df_test=df_test.replace(to_replace =[\"Somewhat difficult\"],value =3)\n",
    "df_test=df_test.replace(to_replace =[\"Very difficult\"],value =4)\n",
    "df_test=df_test.replace(to_replace =[\"Don't know\",\"Not sure\",\"Maybe\",'Some of them'],value =0.0.)\n",
    "df_test=df_test.rename(columns={'mental_health_consequence': \"mhc\", \"phys_health_consequence\": \"phc\",\"phys_health_interview\": \"phi\"})\n",
    "df_test['Age']=np.where(df_test['Age']<=0, df_test[\"Age\"].median(skipna=True), df_test['Age'])\n",
    "\n",
    "\n",
    "\n",
    "\n",
    "\n",
    "Predictions=model.predict(df_test)\n",
    "# Predictions=Predictions.replace(to_replace =[1],value =\"Yes\")\n",
    "# Predictions=Predictions.replace(to_replace =[0],value =\"No\")\n",
    "df_test['treatment']=Predictions\n",
    "Final_Dataframe=df_test[['s.no','treatment']]\n",
    "Final_Dataframe=Final_Dataframe.replace({'treatment':0},{'treatment':\"No\"})\n",
    "Final_Dataframe=Final_Dataframe.replace({'treatment':1},{'treatment':\"Yes\"})\n"
   ]
  },
  {
   "cell_type": "code",
   "execution_count": null,
   "metadata": {},
   "outputs": [],
   "source": []
  }
 ],
 "metadata": {
  "kernelspec": {
   "display_name": "Python 3",
   "language": "python",
   "name": "python3"
  },
  "language_info": {
   "codemirror_mode": {
    "name": "ipython",
    "version": 3
   },
   "file_extension": ".py",
   "mimetype": "text/x-python",
   "name": "python",
   "nbconvert_exporter": "python",
   "pygments_lexer": "ipython3",
   "version": "3.7.3"
  }
 },
 "nbformat": 4,
 "nbformat_minor": 2
}
